{
 "cells": [
  {
   "cell_type": "code",
   "execution_count": 1,
   "id": "e9db7e2c",
   "metadata": {},
   "outputs": [
    {
     "name": "stdout",
     "output_type": "stream",
     "text": [
      "Missing values:\n",
      " ID                      0\n",
      "Year_Birth              0\n",
      "Education               0\n",
      "Marital_Status          0\n",
      "Income                 24\n",
      "Kidhome                 0\n",
      "Teenhome                0\n",
      "Dt_Customer             0\n",
      "Recency                 0\n",
      "MntWines                0\n",
      "MntFruits               0\n",
      "MntMeatProducts         0\n",
      "MntFishProducts         0\n",
      "MntSweetProducts        0\n",
      "MntGoldProds            0\n",
      "NumDealsPurchases       0\n",
      "NumWebPurchases         0\n",
      "NumCatalogPurchases     0\n",
      "NumStorePurchases       0\n",
      "NumWebVisitsMonth       0\n",
      "Complain                0\n",
      "Z_CostContact           0\n",
      "Z_Revenue               0\n",
      "Response                0\n",
      "dtype: int64\n",
      "Cleaned file saved as 'cleaned_marketing_campaign.xls'\n"
     ]
    }
   ],
   "source": [
    "import pandas as pd\n",
    "\n",
    "df = pd.read_excel('marketing_campaign.xls')\n",
    "\n",
    "print(\"Missing values:\\n\", df.isnull().sum())\n",
    "\n",
    "df.fillna('Unknown', inplace=True)\n",
    "\n",
    "df = df.drop_duplicates()\n",
    "\n",
    "text_columns = df.select_dtypes(include='object').columns\n",
    "for col in text_columns:\n",
    "    df[col] = df[col].astype(str).str.lower().str.strip()\n",
    "\n",
    "if 'Dt_Customer' in df.columns:\n",
    "    df['Dt_Customer'] = pd.to_datetime(df['Dt_Customer'], dayfirst=True)\n",
    "\n",
    "df.columns = df.columns.str.lower().str.replace(' ', '_')\n",
    "\n",
    "if 'year_birth' in df.columns:\n",
    "    df['year_birth'] = pd.to_numeric(df['year_birth'], errors='coerce')\n",
    "\n",
    "df.to_excel('cleaned_marketing_campaign.xls', index=False)\n",
    "\n",
    "print(\"Cleaned file saved as 'cleaned_marketing_campaign.xls'\")"
   ]
  }
 ],
 "metadata": {
  "kernelspec": {
   "display_name": "Python 3",
   "language": "python",
   "name": "python3"
  },
  "language_info": {
   "codemirror_mode": {
    "name": "ipython",
    "version": 3
   },
   "file_extension": ".py",
   "mimetype": "text/x-python",
   "name": "python",
   "nbconvert_exporter": "python",
   "pygments_lexer": "ipython3",
   "version": "3.6.2"
  }
 },
 "nbformat": 4,
 "nbformat_minor": 5
}
